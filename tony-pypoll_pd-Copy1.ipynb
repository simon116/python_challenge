{
 "cells": [
  {
   "cell_type": "code",
   "execution_count": null,
   "metadata": {},
   "outputs": [],
   "source": [
    "import csv\n",
    "import os\n",
    "import numpy as np"
   ]
  },
  {
   "cell_type": "code",
   "execution_count": 2,
   "metadata": {},
   "outputs": [],
   "source": [
    "# Files to load and output \n",
    "\n",
    "# file_in = os.path.join(\"..\", \"C:/Users/aj_si/Desktop/python_challenge\", \"election_data.csv\")\n",
    "# file_out = os.path.join(\"..\", \"C:/Users/aj_si/Desktop/python_challenge\", \"election_analysis.txt\")\n",
    "\n",
    "csvpath = \"c:/users/aj_si/Downloads/bootcamp/\"\n",
    "\n",
    "# [NEW]\n",
    "file_in = os.path.join(\"c:/Users/aj_si/Downloads/bootcamp/election_data.csv\")\n",
    "file_out = os.path.join(\"c:/Users/aj_si/Downloads/bootcamp/election_analysis.txt\")"
   ]
  },
  {
   "cell_type": "code",
   "execution_count": 3,
   "metadata": {},
   "outputs": [],
   "source": [
    "# Create a container for the candidate names and their respective count of votes\n",
    "candidate_vote_count = {}\n",
    "\n",
    "# Visualizing the Data: \n",
    "# {\n",
    "#     'Khan': 1,\n",
    "#     'Correy': 704200,\n",
    "#     'Li': 492940,\n",
    "#     \"O'Tooley\": 105630\n",
    "# }\n",
    "\n",
    "total_number_votes = 0"
   ]
  },
  {
   "cell_type": "code",
   "execution_count": 4,
   "metadata": {},
   "outputs": [
    {
     "name": "stdout",
     "output_type": "stream",
     "text": [
      "Total no. of rows: 3521002\n"
     ]
    }
   ],
   "source": [
    "# Track vote results\n",
    "\n",
    "with open(file_in, 'r') as csvfile: \n",
    "    # creating a csv reader object \n",
    "    csvreader = csv.reader(csvfile) \n",
    "      \n",
    "    # extracting field names through first row \n",
    "#     fields = csvreader.next() \n",
    "    fields = next(csvreader)\n",
    "  \n",
    "    # extracting each data row one by one \n",
    "    for row in csvreader: \n",
    "        candidate_name = row[2]\n",
    "        # add a candidate to the empty dictionary if it doesn't exist\n",
    "        if candidate_name not in candidate_vote_count:\n",
    "            candidate_vote_count[candidate_name] = 1\n",
    "        else:\n",
    "            candidate_vote_count[candidate_name] += 1 # increment the \n",
    "  \n",
    "    # get total number of rows \n",
    "    print(\"Total no. of rows: %d\"%(csvreader.line_num)) \n",
    "    total_number_votes = csvreader.line_num\n"
   ]
  },
  {
   "cell_type": "code",
   "execution_count": 6,
   "metadata": {},
   "outputs": [
    {
     "data": {
      "text/plain": [
       "3521002"
      ]
     },
     "execution_count": 6,
     "metadata": {},
     "output_type": "execute_result"
    }
   ],
   "source": [
    "total_number_votes"
   ]
  },
  {
   "cell_type": "code",
   "execution_count": 7,
   "metadata": {},
   "outputs": [
    {
     "name": "stdout",
     "output_type": "stream",
     "text": [
      "63%\n"
     ]
    }
   ],
   "source": [
    "P1 = candidate_vote_count['Khan'] / total_number_votes\n",
    "p1 = '{0:.0%}'.format(P1)\n",
    "print(p1)"
   ]
  },
  {
   "cell_type": "code",
   "execution_count": 8,
   "metadata": {},
   "outputs": [
    {
     "name": "stdout",
     "output_type": "stream",
     "text": [
      "20%\n"
     ]
    }
   ],
   "source": [
    "P2 = candidate_vote_count['Correy'] / total_number_votes\n",
    "p2 = '{0:.0%}'.format(P2)\n",
    "print(p2)"
   ]
  },
  {
   "cell_type": "code",
   "execution_count": 9,
   "metadata": {},
   "outputs": [
    {
     "name": "stdout",
     "output_type": "stream",
     "text": [
      "14%\n"
     ]
    }
   ],
   "source": [
    "P3 = candidate_vote_count['Li'] / total_number_votes\n",
    "p3 = '{0:.0%}'.format(P3)\n",
    "print(p3)"
   ]
  },
  {
   "cell_type": "code",
   "execution_count": 10,
   "metadata": {},
   "outputs": [
    {
     "name": "stdout",
     "output_type": "stream",
     "text": [
      "3%\n"
     ]
    }
   ],
   "source": [
    "P4 = candidate_vote_count[\"O'Tooley\"] / total_number_votes\n",
    "p4 = '{0:.0%}'.format(P4)\n",
    "print(p4)"
   ]
  },
  {
   "cell_type": "code",
   "execution_count": 11,
   "metadata": {},
   "outputs": [
    {
     "data": {
      "text/plain": [
       "dict_keys(['Khan', 'Correy', 'Li', \"O'Tooley\"])"
      ]
     },
     "execution_count": 11,
     "metadata": {},
     "output_type": "execute_result"
    }
   ],
   "source": [
    "candidate_vote_count.keys()"
   ]
  },
  {
   "cell_type": "code",
   "execution_count": 12,
   "metadata": {},
   "outputs": [
    {
     "ename": "NameError",
     "evalue": "name 'c_votes' is not defined",
     "output_type": "error",
     "traceback": [
      "\u001b[1;31m---------------------------------------------------------------------------\u001b[0m",
      "\u001b[1;31mNameError\u001b[0m                                 Traceback (most recent call last)",
      "\u001b[1;32m<ipython-input-12-d323da5c7220>\u001b[0m in \u001b[0;36m<module>\u001b[1;34m\u001b[0m\n\u001b[1;32m----> 1\u001b[1;33m \u001b[0mc_total_index\u001b[0m \u001b[1;33m=\u001b[0m \u001b[0msorted\u001b[0m\u001b[1;33m(\u001b[0m\u001b[0mc_votes\u001b[0m\u001b[1;33m)\u001b[0m\u001b[1;33m\u001b[0m\u001b[1;33m\u001b[0m\u001b[0m\n\u001b[0m\u001b[0;32m      2\u001b[0m \u001b[1;33m\u001b[0m\u001b[0m\n\u001b[0;32m      3\u001b[0m \u001b[0mprint\u001b[0m\u001b[1;33m(\u001b[0m\u001b[0mc_total_index\u001b[0m\u001b[1;33m)\u001b[0m\u001b[1;33m\u001b[0m\u001b[1;33m\u001b[0m\u001b[0m\n",
      "\u001b[1;31mNameError\u001b[0m: name 'c_votes' is not defined"
     ]
    }
   ],
   "source": [
    "c_total_index = sorted(c_votes)\n",
    "\n",
    "print(c_total_index)"
   ]
  },
  {
   "cell_type": "code",
   "execution_count": 13,
   "metadata": {},
   "outputs": [
    {
     "data": {
      "text/plain": [
       "\"O'Tooley\""
      ]
     },
     "execution_count": 13,
     "metadata": {},
     "output_type": "execute_result"
    }
   ],
   "source": [
    "c_names = list(candidate_vote_count.keys()) # ['Khan', 'Correy', 'Li', \"O'Tooley\"]\n",
    "c_votes = list(candidate_vote_count.values()) # [2218231, 704200, 492940, 105630]\n",
    "\n",
    "# locate the position where the greatest number of votes is\n",
    "c_max_index = np.argmax(c_votes)\n",
    "c_votes.sort()\n",
    "\n",
    "\n",
    "winner = c_names[c_max_index]\n",
    "\n",
    "winner\n",
    "\n",
    "second = c_names[1]\n",
    "\n",
    "second\n",
    "\n",
    "third = c_names[2]\n",
    "\n",
    "third\n",
    "\n",
    "last = c_names[3]\n",
    "\n",
    "last"
   ]
  },
  {
   "cell_type": "code",
   "execution_count": null,
   "metadata": {},
   "outputs": [],
   "source": []
  },
  {
   "cell_type": "code",
   "execution_count": 14,
   "metadata": {},
   "outputs": [
    {
     "name": "stdout",
     "output_type": "stream",
     "text": [
      "\n",
      "Election Results\n",
      "----------------------------\n",
      "Total Votes Cast: 3521002\n",
      "First Place: Khan at 63%  \n",
      "Second Place: Correy at 20%  \n",
      "Third Place: Li at  14%   \n",
      "Last Place: O'Tooley at 3%      \n",
      "-----------------------------\n",
      "Winner: Khan\n"
     ]
    }
   ],
   "source": [
    "# Read the csv and convert it into a list of dictionaries\n",
    "with open(file_out, \"w\") as txt_file:\n",
    "\n",
    "    # Generate Output Summary\n",
    "    output = (\n",
    "        f\"\\nElection Results\\n\"\n",
    "\n",
    "    f\"----------------------------\\n\"\n",
    "\n",
    "     f\"Total Votes Cast: {total_number_votes}\\n\"\n",
    "\n",
    "     f\"First Place: {winner} at {p1}  \\n\"\n",
    "\n",
    "     f\"Second Place: {second} at {p2}  \\n\"\n",
    "        \n",
    "     f\"Third Place: {third} at  {p3}   \\n\"\n",
    "        \n",
    "     f\"Last Place: {last} at {p4}      \\n\"\n",
    "        \n",
    "    f\"-----------------------------\\n\"\n",
    "        \n",
    "#     f\"Greatest Increase in Profits: {greatest_increase[0]} (${greatest_increase[1]})\\n\"\n",
    "\n",
    "#     f\"Greatest Decrease in Profits: {greatest_decrease[0]} (${greatest_decrease[1]})\\n\")\n",
    "        \n",
    "    f\"Winner: {winner}\"\n",
    "    )\n",
    "\n",
    "\n",
    "\n",
    "    # Print the output (to terminal)\n",
    "    print(output)\n",
    "    \n",
    "    # Export the results to text file\n",
    "    txt_file.write(output)\n"
   ]
  },
  {
   "cell_type": "code",
   "execution_count": null,
   "metadata": {},
   "outputs": [],
   "source": []
  }
 ],
 "metadata": {
  "kernelspec": {
   "display_name": "Python 3",
   "language": "python",
   "name": "python3"
  },
  "language_info": {
   "codemirror_mode": {
    "name": "ipython",
    "version": 3
   },
   "file_extension": ".py",
   "mimetype": "text/x-python",
   "name": "python",
   "nbconvert_exporter": "python",
   "pygments_lexer": "ipython3",
   "version": "3.7.3"
  }
 },
 "nbformat": 4,
 "nbformat_minor": 2
}
